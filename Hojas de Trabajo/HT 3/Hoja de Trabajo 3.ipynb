{
 "cells": [
  {
   "cell_type": "markdown",
   "source": [
    "# Hoja de Trabajo 3\r\n",
    "\r\n",
    "Instrucciones: A continuación verá una lista de ejercicios que debe completar para poder entregar la hoja de trabajo 3. Al finalizar, todos sus archivos deben estar contenidos en un archivo ht3-sucarnet.zip. Este archivo lo debe entregar en el link del GES. Por favor cree una carpeta para cada ejercicio que usted realice.\r\n",
    "\r\n",
    "## Problema 1\r\n",
    "\r\n",
    "Realizar un breve resumen sobre las partes de una oración, utilizar el siguiente [link](https://www.portaleducativo.net/segundo-basico/83/Identificar-partes-de-una-oracion) como referencia"
   ],
   "metadata": {}
  },
  {
   "cell_type": "markdown",
   "source": [
    "Las oraciones tienen 9 partes:\r\n",
    "\r\n",
    "**5 Variables**:\r\n",
    "\r\n",
    "1. Sustantivo: Palabras que nombran personas, animales, objetos, ideas o sentimientos. Puede ser el sujeto.\r\n",
    "    - Comunes: Nombran cosas sin expresar rasgos distintivos\r\n",
    "    - Propios: Identifica e individualizan a un ser para diferenciarlo de otros de la misma clase\r\n",
    "    - Concretos: Seres que se perciben con los sentidos\r\n",
    "    - Abstractos: Conceptos que solo pueden mentalizarse en lugar de a través de los sentidos\r\n",
    "    - Individuales: Designan un único ser\r\n",
    "    - Colectivos: Seres contables que presentan una semejanza\r\n",
    "\r\n",
    "2. Adjetivo: Complementa un sustantivo para calificarlo; expresar características o propiedades\r\n",
    "    - Explicativo: Cualidad de un ser sin la pretensión de distinguirlo de los demás\r\n",
    "    - Especificativo: Expresan una cualidad necesaria de un sustantivo para diferenciarlo de los demás\r\n",
    "    - Calificativos: Señalan una cualidad o característica del sustantivo al que modifican\r\n",
    "    - Relacionales: Limitan la extension del sustantivo, pero sin grado.\r\n",
    "\r\n",
    "3. Artículo: Acompañante del sustantivo que especifica si el sustantivo es conocido o desconocido\r\n",
    "    - Definidos: Se refieren a algo que se conoce o se puede identificar (el, la, los, las)\r\n",
    "    - Indefinidos: Hacen alusión a algo que no se conoce o se puede identificar (un, una, unos, unas)\r\n",
    "\r\n",
    "4. Pronombre: Palabras que sustituyen al sustantivo de una oración\r\n",
    "    - Personales: Se refieren a los participantes del discurso (yo, nosotros, usted)\r\n",
    "    - Reflexivos: Indican la acción que recae sobre el sujeto (consigo, conmigo)\r\n",
    "    - Recíprocos: Dan a entender una reciprocidad de acciones entre dos o más sujetos (nos, se)\r\n",
    "    - Posesivos: Expresan posesión de una cosa por parte del sustantivo (mío, mía, míos, mías)\r\n",
    "    - Demostrativos: Indican la relación de proximidad entre el sujeto y los demás participantes del discurso (ese, aquella, aquel)\r\n",
    "    - Relativos: Señalan otras personas aparecidas anteriormente (la que, la cual, cuanta, que, quien)\r\n",
    "    - Numerales: Indican cantidad de objetos (mitad, primero, doble, triple)\r\n",
    "    - Cuantitativos: Representan variedades indeterminadas de elementos (suficiente, todo, poco)\r\n",
    "\r\n",
    "5. Verbo: Parte de la oración que expresa una acción, proceso o estado\r\n",
    "\r\n",
    "**4 Invariables**:\r\n",
    "\r\n",
    "1. Adverbio: Complementa a un verbo, adjetivo, otros adverbios para expresar circunstancias como puede ser el modo, lugar, tiempo, cantidad, afirmación, etc. (aquí, ayer, frecuentemente)\r\n",
    "\r\n",
    "2. Preposición: Palabra que une los distintos elementos que conforman una oración (a, ante, bajo, cabe, con)\r\n",
    "\r\n",
    "3. Conjunción: Palabra o conjunto de palabras que enlazan proposiciones o palabras\r\n",
    "    - Propias: Unen palabras y oraciones del mismo nivel sintáctico, de manera que los elementos son intercambiables sin cambiar el significado (y)\r\n",
    "    - Impropias: Enlazan propociones que no son intercambiables entre sí (como, cuando, porque, para que)\r\n",
    "\r\n",
    "4. Interjección: Palabras que no constituyen parte de la oración. Equivalen a oraciones que expresan un sntimiento o describen elementalmente una acción (ay, zas, eh)\r\n",
    "\r\n",
    "Referencias Adicionales:\r\n",
    "\r\n",
    "- [Significados: Pronombre](https://www.significados.com/pronombre/)\r\n",
    "- [Wikipedia: Verbo](https://es.wikipedia.org/wiki/Verbo)\r\n",
    "- [Wikipedia: Adverbio](https://es.wikipedia.org/wiki/Adverbio)\r\n",
    "- [UPB](https://www.upb.edu.co/es/central-blogs/ortografia/uso-de-las-preposiciones)\r\n",
    "- [Wikipedia: Conjunción](https://es.wikipedia.org/wiki/Conjunción_(gramática))\r\n",
    "- [Wikipedia: Interjección](https://es.wikipedia.org/wiki/Interjección)\r\n"
   ],
   "metadata": {}
  },
  {
   "cell_type": "markdown",
   "source": [
    "## Problema 2\r\n",
    "\r\n",
    "Realizar un resumen de 150 palabras sobre ¿Qué es NLP (Procesamiento de Lenguaje Natural)?"
   ],
   "metadata": {}
  },
  {
   "cell_type": "markdown",
   "source": [
    "**Definición**: \r\n",
    "\r\n",
    "Rama de ciencia de la computación y de la IA (Inteligencia Artificial), que permite que las computadoras entiendan texto y palabras escritas, combinando lingüistica con estadística, machine learning y modelos de aprendizaje profundo. Se hace necesario el uso de computadoras con métodos complejos, ya que el lenguaje humano contiene ambigüedades que dificultan saber el significado exacto de texto o datos de voz en diferentes contextos. Algunos ejemplos de irregularidades son los siguientes: Homónimos, homófonos, sarcasmo, expresiones, metáforas, gramática y excepciones.\r\n",
    "\r\n",
    "**Tareas Comunes**:\r\n",
    "\r\n",
    "- Reconocimiento de voz: También conocido como \"speech-to-text\". Consiste en convertir datos de voz a datos en texto.\r\n",
    "- Speech Tagging: Proceso de determinar la gramática de una palabra basado en su uso y contexto. Por ejemplo, identificar \"hacer\" como verbo en \"voy a hacer mi tarea\".\r\n",
    "- Word Sense Disambiguation: Selección del significado de una palabra con múltiples significados.\r\n",
    "- Named Entity Recognition: Identifica palabras como elementos clave. Por ejemplo, identificar \"Guatemala\" como país o \"Pedro\" como nombre.\r\n",
    "- Co-reference Resolution: Identificar si dos palabras se refieren a la misma entidad.\r\n",
    "- Sentiment Analysis: Permite extraer cualidades abstractas de texto como actitud, emociones, sarcasmo, confusión, sospecha.\r\n",
    "- Natural Language Generation: Lo contrario a \"speech-to-text\", convierte información estructurada en lenguaje humano."
   ],
   "metadata": {}
  },
  {
   "cell_type": "markdown",
   "source": [
    "## Problema 3\r\n",
    "\r\n",
    "Utilice expresiones regulares para validar las siguientes situaciones:\r\n",
    "\r\n",
    "1. REGEX para validar un correo electrónico en general."
   ],
   "metadata": {}
  },
  {
   "cell_type": "code",
   "execution_count": 2,
   "source": [
    "import re\r\n",
    "import numpy as np\r\n",
    "\r\n",
    "test_str = [\"Guate.360-porelmundo@miguate.com\", \"Miercoles3@hotmail.com\", \"Progra3.galileo@galileo.edu\"]\r\n",
    "\r\n",
    "# Explicación REGEX:\r\n",
    "# 1. Se hace match a todos los caracteres (.+) y se almacenan en el grupo \"Name\" ((?P<Name>.+))\r\n",
    "# 2. Se hace match del símbolo de @\r\n",
    "# 3. Se hace match a todos los caracteres (.+) y se almacenan en el grupo \"Service\" ((?P<Service>.+))\r\n",
    "# 4. Se hace match del caracter \".\"\r\n",
    "# 5. Se almacenan los últimos caracteres (.+) en un grupo \"Ext\" ((?P<Ext>.+))\r\n",
    "regex = r\"(?P<Name>.+)@(?P<Service>.+)\\.(?P<Ext>.+)\"\r\n",
    "\r\n",
    "for string in test_str:\r\n",
    "\r\n",
    "    match = re.findall(regex, string)\r\n",
    "    print(match)\r\n"
   ],
   "outputs": [
    {
     "output_type": "stream",
     "name": "stdout",
     "text": [
      "[('Guate.360-porelmundo', 'miguate', 'com')]\n",
      "[('Miercoles3', 'hotmail', 'com')]\n",
      "[('Progra3.galileo', 'galileo', 'edu')]\n"
     ]
    }
   ],
   "metadata": {}
  },
  {
   "cell_type": "markdown",
   "source": [
    "2. REGEX para validar la dirección URL de una página web con los tipos de dominio (.com, .org, .edu). Note que la URL incluye el protocolo (HTTP o HTTPS) y los símbolos (//www.)"
   ],
   "metadata": {}
  },
  {
   "cell_type": "code",
   "execution_count": 3,
   "source": [
    "test_str = [\"https://www.guate360-porelmundo.com\", \r\n",
    "            \"http://www.a2.net\", \r\n",
    "            \"https://www.galileo.edu\",\r\n",
    "            \"http://www.8.org\"]\r\n",
    "\r\n",
    "# Explicación REGEX:\r\n",
    "# 1. Se hace match de http o https (?:http|https)\r\n",
    "# 2. Se hace match de \"//www.\" (:\\/\\/www\\.)\r\n",
    "# 3. Se busca que el primer caracter sea una letra ([a-zA-Z]+)\r\n",
    "# 4. Se hace match de cualquier caracter hasta llegar a un punto (.+\\.)\r\n",
    "# 5. Se hace match de \"com\", \"edu\" u \"org\" ((?:com|org|edu))\r\n",
    "regex = r\"(?:http|https):\\/\\/www\\.[a-zA-Z]+.+\\.(?:com|org|edu)\"\r\n",
    "\r\n",
    "for string in test_str:\r\n",
    "\r\n",
    "    match = re.findall(regex, string)\r\n",
    "    print(match)"
   ],
   "outputs": [
    {
     "output_type": "stream",
     "name": "stdout",
     "text": [
      "['https://www.guate360-porelmundo.com']\n",
      "[]\n",
      "['https://www.galileo.edu']\n",
      "[]\n"
     ]
    }
   ],
   "metadata": {}
  },
  {
   "cell_type": "markdown",
   "source": [
    "3. REGEX para validar una MAC Address. Notar que las MAC Address están divididas en 6 bloques de caracteres hexadecimales, es decir que los símbolos solo pueden variar del 0 al 9 y las letras del A a la F."
   ],
   "metadata": {}
  },
  {
   "cell_type": "code",
   "execution_count": 4,
   "source": [
    "test_str = [\"5A 6F AF 8C 9B 1D\", \r\n",
    "            \"6D 6C 4D 3A EB 3F\", \r\n",
    "            \"3A 7C FA C8 6D 4J\"]\r\n",
    "\r\n",
    "# Explicación REGEX:\r\n",
    "# 1. Se hace match de dos caracteres entre A-F o entre 0-9 ((?:[A-Fa-f0-9]){2})\r\n",
    "# 2. Se busca cero o más espacios luego de las parejas ( *)\r\n",
    "# 3. Se busca que el patrón anterior se repita 6 veces ((?:){6})\r\n",
    "regex = r\"(?:(?:[A-Fa-f0-9]){2} *){6}\"\r\n",
    "\r\n",
    "for string in test_str:\r\n",
    "\r\n",
    "    match = re.findall(regex, string)\r\n",
    "    print(match)"
   ],
   "outputs": [
    {
     "output_type": "stream",
     "name": "stdout",
     "text": [
      "['5A 6F AF 8C 9B 1D']\n",
      "['6D 6C 4D 3A EB 3F']\n",
      "[]\n"
     ]
    }
   ],
   "metadata": {}
  },
  {
   "cell_type": "markdown",
   "source": [
    "4. REGEX para validar una dirección IPv4. Notar que las direcciones IPv4 están divididas en 4 bloques de valores los cuales solo pueden ir desde 0 hasta 255. Una IP donde algunos de sus bloques sea mayor a 255 no es válida, además tome en cuenta que cada bloque está separado por un punto."
   ],
   "metadata": {}
  },
  {
   "cell_type": "code",
   "execution_count": 5,
   "source": [
    "test_str = [\"192.16.8.1\", \r\n",
    "            \"234.56.78.90\", \r\n",
    "            \"1.2.3.4\",\r\n",
    "            \"192.168.45.345\"]\r\n",
    "\r\n",
    "# Explicación REGEX:\r\n",
    "# 1. Matchea uno de tres patrones hasta encontrar un \".\" (\\.): \r\n",
    "#       Uno o cero \"1s\" / uno o cero dígitos entre 0-9 / un dígito entre 0 y 9 (1?[0-9]?[0-9])\r\n",
    "#       Un \"2s\" / un dígito entre 0-4 / un dígito entre 0-9 (2[0-4][0-9])\r\n",
    "#       Un \"2\" y un \"5\" / un dígito entre 0-5 (25[0-5])\r\n",
    "# 2. Matchea 3 veces el patrón anterior de 3 números y un punto (?:(?:PATRÓN)\\.){3}\r\n",
    "# 2. Se vuelve a matchear una única vez el patrón anterior (?:1?[0-9]?[0-9]|2[0-4][0-9]|25[0-5])\r\n",
    "# 3. El patrón no lo puede seguir un dígito (?![0-9])\r\n",
    "regex = r\"(?:(?:1?[0-9]?[0-9]|2[0-4][0-9]|25[0-5])\\.){3}(?:1?[0-9]?[0-9]|2[0-4][0-9]|25[0-5])(?![0-9])\"\r\n",
    "\r\n",
    "for string in test_str:\r\n",
    "\r\n",
    "    match = re.findall(regex, string)\r\n",
    "    print(match)"
   ],
   "outputs": [
    {
     "output_type": "stream",
     "name": "stdout",
     "text": [
      "['192.16.8.1']\n",
      "['234.56.78.90']\n",
      "['1.2.3.4']\n",
      "[]\n"
     ]
    }
   ],
   "metadata": {}
  },
  {
   "cell_type": "markdown",
   "source": [
    "5. REGEX para validar una fecha con la secuencia día-mes-año donde el día, mes y año puedan estar separados ya sea por el caracter \"/\" o el caracter \"-\" o el caracter \".\". Notar que las fechas son válidas si los días están definidos desde el 1 al 31, el mes del 1 al 12 y del año 2000 al 2019. También debe tomar en cuenta que los días y meses pueden estar escritos ya sea con uno o dos caracteres, por ejemplo: Enero puede escribirse como 1 o como 01. Los años también pueden expresarse ya sea con dos o con cuatro caracteres, por ejemplo: 19 o 2019 son válidos. "
   ],
   "metadata": {}
  },
  {
   "cell_type": "code",
   "execution_count": 6,
   "source": [
    "test_str = [\"20/1/2019\", \r\n",
    "            \"12.03.2005\", \r\n",
    "            \"31-11-08\",\r\n",
    "            \"1-1-2012\",\r\n",
    "            \"12-12-22\"]\r\n",
    "\r\n",
    "# Explicación REGEX:\r\n",
    "# 1. Matchea uno de tres patrones hasta encontrar un \".\", un \"-\" o un \"/\" (?:\\/|\\.|-): \r\n",
    "#       - Un número de 0-9 ([0-9])\r\n",
    "#       - 0 o 1 dígitos entre 0-2, seguido de un dígito entre 0-9 ([0-2]?[0-9])\r\n",
    "#       - Un \"3\", seguido de un dígito entre 0-1 (3[0-1])\r\n",
    "# 2. Matchea un \".\", un \"-\" o un \"/\" (?:\\/|\\.|-)\r\n",
    "# 3. Matchea uno de tres patrones hasta encontrar un \".\", un \"-\" o un \"/\" (?:\\/|\\.|-): \r\n",
    "#       - Un número de 0-9 ([0-9])\r\n",
    "#       - 0 o 1 \"0s\", seguido de un dígito entre 0-9 (0?[0-9])\r\n",
    "#       - Un \"1\", seguido de un dígito entre 0-2 (1[0-2])\r\n",
    "# 4. Matchea un \".\", un \"-\" o un \"/\" (?:\\/|\\.|-)\r\n",
    "# 5. Matchea 0 o 1 veces \"20\" seguido de un dígito entre 0-1 y finalizado en un dígito entre 0-9\r\n",
    "regex = r\"(?:[0-9]|[0-2]?[0-9]|3[0-1])(?:\\/|\\.|-)(?:[0-9]|0?[0-9]|1[0-2])(?:\\/|\\.|-)(?:(?:20)?[0-1][0-9])\"\r\n",
    "\r\n",
    "for string in test_str:\r\n",
    "\r\n",
    "    match = re.findall(regex, string)\r\n",
    "    print(match)"
   ],
   "outputs": [
    {
     "output_type": "stream",
     "name": "stdout",
     "text": [
      "['20/1/2019']\n",
      "['12.03.2005']\n",
      "['31-11-08']\n",
      "['1-1-2012']\n",
      "[]\n"
     ]
    }
   ],
   "metadata": {}
  },
  {
   "cell_type": "markdown",
   "source": [
    "## Problema 4\r\n",
    "\r\n",
    "En la carpeta \"Datos\" encontrará adjuntos 21 documentos que tienen 100 fechas en la secuencia días-mes-año pero con distinto separador y distinto formato de mes. En algunos casos aparece un número y en otros el nombre del mes en inglés, por ejemplo: Enero puede aparecer como 1 o como \"Jan\""
   ],
   "metadata": {}
  },
  {
   "cell_type": "code",
   "execution_count": 16,
   "source": [
    "# Explicación REGEX:\r\n",
    "# 1. Matchea uno de tres patrones hasta encontrar un \".\", un \"-\" o un \"/\" (?:\\/|\\.|-): \r\n",
    "#       - Un número de 0-9 ([0-9])\r\n",
    "#       - 0 o 1 dígitos entre 0-2, seguido de un dígito entre 0-9 ([0-2]?[0-9])\r\n",
    "#       - Un \"3\", seguido de un dígito entre 0-1 (3[0-1])\r\n",
    "# 2. Matchea un \".\", un \"-\" o un \"/\" (?:\\/|\\.|-)\r\n",
    "# 3. Matchea uno de tres patrones hasta encontrar un \".\", un \"-\" o un \"/\" (?:\\/|\\.|-): \r\n",
    "#       - Un número de 0-9 ([0-9])\r\n",
    "#       - 0 o 1 \"0s\", seguido de un dígito entre 0-9 (0?[0-9])\r\n",
    "#       - Un \"1\", seguido de un dígito entre 0-2 (1[0-2])\r\n",
    "#    O Matchea una de las primeras 3 letras de uno de los meses del año\r\n",
    "# 4. Matchea un \".\", un \"-\" o un \"/\" (?:\\/|\\.|-)\r\n",
    "# 5. Matchea 0 o 1 veces \"20\" seguido de un dígito entre 0-1 y finalizado en un dígito entre 0-9\r\n",
    "regex = r\"(?P<Dia>[0-9]|[0-2]?[0-9]|3[0-1])(?:\\/|\\.|-)(?P<Mes>(?:[0-9]|0?[0-9]|1[0-2])|Jan|Feb|Mar|Apr|May|Jun|Jul|Aug|Sep|Oct|Nov|Dec)(?:\\/|\\.|-)(?P<Year>(?:20)?[0-1][0-9])\"\r\n",
    "\r\n",
    "# Acumulador de la media a lo largo de diferentes archivos de texto\r\n",
    "total_mean = np.asarray([0, 0, 0])\r\n",
    "\r\n",
    "# Se itera sobre los 21 archivos\r\n",
    "for i in range(1, 22):\r\n",
    "\r\n",
    "    # Se abre el archivo y se extrae el texto dentro\r\n",
    "    with open(f\"Datos/D{str(i)}.txt\") as f:\r\n",
    "        text = f.read()\r\n",
    "\r\n",
    "    # Se encuentran los matches usando el regex\r\n",
    "    match = re.findall(regex, text)\r\n",
    "\r\n",
    "    # Se convierten los matches a un array numérico\r\n",
    "    match_array = np.array(match)\r\n",
    "\r\n",
    "    # Se traducen los nombres de mes a números\r\n",
    "    match_array[match_array == 'Jan'] = '1'\r\n",
    "    match_array[match_array == 'Feb'] = '2'\r\n",
    "    match_array[match_array == 'Mar'] = '3'\r\n",
    "    match_array[match_array == 'Apr'] = '4'\r\n",
    "    match_array[match_array == 'May'] = '5'\r\n",
    "    match_array[match_array == 'Jun'] = '6'\r\n",
    "    match_array[match_array == 'Jul'] = '7'\r\n",
    "    match_array[match_array == 'Aug'] = '8'\r\n",
    "    match_array[match_array == 'Sep'] = '9'\r\n",
    "    match_array[match_array == 'Oct'] = '10'\r\n",
    "    match_array[match_array == 'Nov'] = '11'\r\n",
    "    match_array[match_array == 'Dec'] = '12'\r\n",
    "\r\n",
    "    # Se obtiene el promedio del mes día / mes / año\r\n",
    "    match_mean = np.mean(match_array.astype(int), axis=0)\r\n",
    "\r\n",
    "    # Si el array que acumula las medias está vacío se copia el valor del \"match_mean\"\r\n",
    "    # de lo contrario, se obtiene el promedio entre el valor guardado y el nuevo\r\n",
    "    if not np.any(total_mean):\r\n",
    "        total_mean = match_mean.copy()\r\n",
    "    else:\r\n",
    "        total_mean = (total_mean + match_mean) / 2\r\n",
    "\r\n",
    "print(f\"Media Día: {total_mean[0]} \\nMedia Mes: {total_mean[1]} \\nMedia Año: {total_mean[2]}\")"
   ],
   "outputs": [
    {
     "output_type": "stream",
     "name": "stdout",
     "text": [
      "Media Día: 15.64091446018219 \n",
      "Media Mes: 6.487435652732849 \n",
      "Media Año: 2016.6899417219163\n"
     ]
    }
   ],
   "metadata": {}
  }
 ],
 "metadata": {
  "orig_nbformat": 4,
  "language_info": {
   "name": "python",
   "version": "3.9.2",
   "mimetype": "text/x-python",
   "codemirror_mode": {
    "name": "ipython",
    "version": 3
   },
   "pygments_lexer": "ipython3",
   "nbconvert_exporter": "python",
   "file_extension": ".py"
  },
  "kernelspec": {
   "name": "python3",
   "display_name": "Python 3.9.2 64-bit"
  },
  "interpreter": {
   "hash": "658dc12c475a3a8caebf03b24f414cffa2901ebd330ffd26b9c22f028a90850c"
  }
 },
 "nbformat": 4,
 "nbformat_minor": 2
}