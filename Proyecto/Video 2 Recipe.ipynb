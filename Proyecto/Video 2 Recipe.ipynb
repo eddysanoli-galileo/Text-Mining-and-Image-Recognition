{
 "cells": [
  {
   "cell_type": "markdown",
   "source": [
    "# Video 2 Recipe\r\n",
    "\r\n",
    "Programa capaz de extraer recetas de cocina a partir de la transcripción del audio de un video de cocina en Youtube. Útil para aquellas recetas que no cuentan con una transcripción en la descripción."
   ],
   "metadata": {}
  },
  {
   "cell_type": "markdown",
   "source": [
    "## Imports"
   ],
   "metadata": {}
  },
  {
   "cell_type": "code",
   "execution_count": 1,
   "source": [
    "import os\r\n",
    "import sys\r\n",
    "\r\n",
    "# pip install SpeechRecognition\r\n",
    "import speech_recognition as sr\r\n",
    "\r\n",
    "# pip install --upgrade youtube-dl\r\n",
    "import youtube_dl as ydl\r\n",
    "\r\n",
    "# pip install webvtt-py\r\n",
    "import webvtt\r\n",
    "\r\n",
    "# Para capturar stdout como un string\r\n",
    "from io import StringIO"
   ],
   "outputs": [],
   "metadata": {}
  },
  {
   "cell_type": "markdown",
   "source": [
    "## Video a Procesar"
   ],
   "metadata": {}
  },
  {
   "cell_type": "code",
   "execution_count": 2,
   "source": [
    "# URL del video del que se desea extraer una receta\r\n",
    "video_url = \"https://www.youtube.com/watch?v=Vr-o01qiRYI\""
   ],
   "outputs": [],
   "metadata": {}
  },
  {
   "cell_type": "code",
   "execution_count": 68,
   "source": [
    "# Opciones de descarga:\r\n",
    "# - Descargar todos los archivos como \"source\"\r\n",
    "# - Descargar los subtítulos ya dados por el video\r\n",
    "# - Obviar la descarga del video como tal.\r\n",
    "# - Se descargan los subtítulos del video (oficiales si existen, automáticos si no los hay)\r\n",
    "download_options = {\r\n",
    "    'outtmpl': './media/subs',\r\n",
    "    'writesubtitles': True,\r\n",
    "    'writeautomaticsub': True,\r\n",
    "    \"skip_download\": True\r\n",
    "}\r\n",
    "\r\n",
    "# Se realiza la descarga\r\n",
    "with ydl.YoutubeDL(download_options) as video:\r\n",
    "    video.download([video_url])\r\n",
    "\r\n",
    "# Se listan todos los archivos de la carpeta \"media\"\r\n",
    "files = os.listdir(\"./media\")\r\n",
    "\r\n",
    "# Se revisa si algún archivo contiene \"subs\" en su nombre\r\n",
    "# de ser así, se extrae su path.\r\n",
    "for file in files:\r\n",
    "    if \"subs\" in file:\r\n",
    "        subtitles_path = file\r\n",
    "        break\r\n",
    "\r\n",
    "# Se inicializa la string d\r\n",
    "previous_caption = \"\"\r\n",
    "caption_snippets = []\r\n",
    "\r\n",
    "for i, caption in enumerate(webvtt.read(\"./media/\" + subtitles_path)):\r\n",
    "\r\n",
    "    caption = caption.text.replace(\"&nbsp;\", \" \")\r\n",
    "    caption = caption.replace(\"\\n\", \"\")\r\n",
    "    caption = caption.strip()\r\n",
    "\r\n",
    "    # Se agrega siempre la primera caption a los snippets\r\n",
    "    if i == 0:\r\n",
    "        caption_snippets.append(caption)\r\n",
    "\r\n",
    "    # Si la caption anterior es parte de la nueva caption\r\n",
    "    # se agrega la caption anterior a los snippets\r\n",
    "    elif previous_caption in caption:\r\n",
    "        caption_snippets.append(previous_caption)\r\n",
    "\r\n",
    "    # Se actualiza la caption anterior\r\n",
    "    previous_caption = caption\r\n",
    "\r\n",
    "# Se eliminan los strings repetidos \r\n",
    "# Se crea un diccionario que utiliza como llaves los strings del corpus\r\n",
    "# dado que un diccionario no puede tener llaves repetidas, elimina las\r\n",
    "# repetidas y las retorna ordenadas. Se puede hacer la misma operación \r\n",
    "# usando \"sets\" pero retorna los elementos del corpus desordenados.\r\n",
    "caption_snippets = list(dict.fromkeys(caption_snippets))\r\n",
    "\r\n",
    "# Se unen todas las strings\r\n",
    "corpus = \" \".join(caption_snippets)"
   ],
   "outputs": [
    {
     "output_type": "stream",
     "name": "stdout",
     "text": [
      "[youtube] Vr-o01qiRYI: Downloading webpage\n",
      "[info] Writing video subtitles to: media\\subs.en.vtt\n"
     ]
    }
   ],
   "metadata": {}
  },
  {
   "cell_type": "code",
   "execution_count": 69,
   "source": [
    "corpus"
   ],
   "outputs": [
    {
     "output_type": "execute_result",
     "data": {
      "text/plain": [
       "\"[Music]  America I know what you're thinking do we really need a recipe for baked potatoes well here in the Test Kitchen we baked over 200 pounds of spuds to discover that very answer and today I'm here with the expert Ellie who's gonna show us why we do need a recipe Bridgette some crazy things are happening in the world with baked potatoes and it has to stop Oh No immediately first we're cooking our potatoes in the microwave not good I've done it not gonna I've done it's right and it cooks unevenly it cooks from the inside out we also cook our potatoes in foil I've done that too and it traps in all of the moisture and it doesn't give us a tasty potato and finally when we do get it in the oven to bake it we let it hang out on the counter forever and there's no fluffiness coming out of that potato at all but their greatest doorstops absolutely today we're gonna do my favorite thing one of the things we love to do in the Test Kitchen we're gonna brine potatoes we're gonna brine potatoes yes you said Brian potatoes okay now I remember when we started brining beans a few years ago and I was a little skeptical about that really works though changes their structure and how they hold on to moisture much like meat but no we're brining potatoes yes because not only do we want a delicious potato we want the skin to be crispy and flavorful I like to eat my whole potato I don't know about you that's true that's true yeah okay so let's start brining the first thing we're gonna do is poke about six holes in these potatoes but just do two on every side and this is how we get it ready for the brine flavor is gonna seep in seems gonna seep out that's a lot of things are gonna happen and russets our perfect choice for baked potatoes because they're one of the highest starch content of all the potatoes and higher the starch means fluffier potatoes all right now that we have our potatoes ready we're going to create our brine so we have half a cup of water here and we have two tablespoons of salt we're also brining potatoes because it's very hard to season a potato just normally the salt will roll right off if we put it in water it sticks to the potato so I'm gonna transfer these potatoes to a wire rack the wire rack will allow the potatoes are cooked evenly from bottom on all sides and the top and also it's just easier to get it from the oven we tested brining these potatoes for up to an hour and we found that just a few seconds in the Brian works so it's more about the skin than going inside the potato yes gotcha all right so now that we have our potatoes barn we're gonna put them in the oven at 450 degrees it's very important that we let them cook until they register 205 degrees internal temperature and that should take from 45 minutes to an hour I love this this is so Test Kitchen we're actually looking for an internal temperature of potatoes now first we brine them now we temp them Bridget it's been 45 minutes and our potatoes are ready to cool they actually look a little frosty it's like the salt dried on them you can actually see the salt crust yeah that's gonna be delicious later so we're going to temp our potatoes remember we're looking for an internal temperature of 205 temping the potato does two things first it lets us know that the potato is obviously done second pushing the thermometer in gives you a feel of the resistance if it slides right in you know it's ready to go so we're at temp and we're going to brush these potatoes with the tablespoon of vegetable oil this is what's going to give us that nice crispy skin in the end we also found out that if we brushed the potatoes with oil prematurely we got leathery skin because if it was put on too soon the oil would have trapped that moisture in absolutely so it would have been kind of chewy on the inside and leathery on that out just like another potato mistake one thing you don't want to do you know I'm usually a butter advocate you don't want to brush the baked potatoes with butter butter contains moisture water in fact and that water will actually saw out the crust you may however if you have someone hand brush it with a little rendered bacon fat or a goose fat or duck fat or any of those fats so our oven is still at 450 degrees we're gonna put these back in for 10 minutes just to give it that flash cooking that's gonna give us our crispy skin our potatoes only have a few more minutes in the oven let's throw together a quick topping to put on there fantastic all right so we have four ounces of goat cheese that I'm gonna smash up here we're gonna put in two tablespoons of extra-virgin olive oil two tablespoons of parsley 1 tablespoon of shallots and a half a teaspoon of lemon zest this is my favorite part you know I never would have thought of lemon zest on a baked potato but it makes sense because roasted potatoes you add lemon zest to it why not a baked potato why not baked potatoes lemon zest asked the little Zing's at everything finally we're just gonna season to taste with a little bit of salt and pepper it's very flavorful if it doesn't need a lot sometimes goat cheese is super salty and sometimes it's not very seasoned at all so that's a really good idea mm-hmm and here's the taste part just make sure it's good to go lovely season to ELLs taste so that's it that's it yeah I do you more yeah it's pretty too okay I'm gonna go grab these potatoes out of the other oh look how crisp those skins look very different from when they went in yeah all right so we're gonna tend to these potatoes immediately we are not going to squeeze them to tell if they're ready because we temp them at 205 degrees and people think if they leave them here on the counter these poked holes will let all the steam escape those are all false statements you must attend them immediately cutting them open letting that steam out and getting your beautiful potato when you cut that open it sounds like a potato chip you need it because it was crispy I was just cutting an X across the top come on Oh give it a little squeeze you feel the steam coming out can you imagine if that steam had stayed inside the potato has nowhere to escape just gets super dense without fluffy you can smell them we got crispy we've got flavor yeah we got topping we've got snacks yeah Lizzy they are gorgeous fluffy fluffy and I Noel loves me because she just shoved butter inside that baked potato all right will you do the honors of the goat cheese I sure will hot hot Oh what does that remind mam that texture I mean it's almost whipped it's so light and airy and it's actually soft all the way to the middle that's impressive I want to tear a little bit of the skin here I got a try a piece really really crisp very seasoned - that was that brine who would have thought what are we gonna brine next two plates maybe well thank you so much you totally owned fake potatoes today it was my pleasure well 200 pounds of spuds later we know the way to foolproof baked potatoes hook a few holes in your high starch and russet potatoes and dip them in salt water before baking to season the skin bake them to 205 degrees and oil the skins and return them to the oven until super crisp finally cut the potatoes open as soon as they're out of the oven to let excess steam escape and there you have it from our Test Kitchen to your kitchen proof that this old dog can learn a new trick or two the very best baked potatoes thanks for watching America's Test Kitchen what you think we'll leave a comment and let us know which recipes you're excited to make or you can just say hello you can find links to today's recipes and reviews in the video description and don't forget to subscribe to our Channel see you later\""
      ]
     },
     "metadata": {},
     "execution_count": 69
    }
   ],
   "metadata": {}
  },
  {
   "cell_type": "markdown",
   "source": [
    "## Chequeo Subtítulos\r\n",
    "\r\n",
    "Se solicitan los subtítulos de un video. Si el video no tiene subtítulos oficiales, la bandera \"has_subs\" se retorna como False."
   ],
   "metadata": {}
  },
  {
   "cell_type": "code",
   "execution_count": 3,
   "source": [
    "# Reemplaza el stdout normal por uno custom llamado \"mystdout\"\r\n",
    "old_stdout = sys.stdout\r\n",
    "sys.stdout = temp_stdout = StringIO()\r\n",
    "\r\n",
    "# Opciones de descarga:\r\n",
    "# - Listar los subtítulos disponibles\r\n",
    "# - No descargar el video\r\n",
    "download_options = {\r\n",
    "    'listsubtitles': True,\r\n",
    "    \"skip_download\": True\r\n",
    "}\r\n",
    "\r\n",
    "# Se realiza el request. El progreso del programa es guardado\r\n",
    "# en la variable \"mystdout\"\r\n",
    "with ydl.YoutubeDL(download_options) as video:\r\n",
    "    video.download([video_url])\r\n",
    "\r\n",
    "# Se vuelve a poner \"stdout\" como logger\r\n",
    "sys.stdout = old_stdout\r\n",
    "\r\n",
    "# Se guardan los logs generados en una variable\r\n",
    "ydl_logs = temp_stdout.getvalue()\r\n",
    "\r\n",
    "# Si los logs contienen el string \"has no subtitles\" se\r\n",
    "# setea una variable como \"False\" para indicar esto.\r\n",
    "if \"has no subtitles\" in ydl_logs:\r\n",
    "    has_subtitles = False\r\n",
    "    print(\"El video no tiene subtítulos.\")\r\n",
    "else:\r\n",
    "    has_subtitles = True\r\n",
    "    print(\"El video tiene subtítulos\")"
   ],
   "outputs": [
    {
     "output_type": "stream",
     "name": "stdout",
     "text": [
      "El video no tiene subtítulos.\n"
     ]
    }
   ],
   "metadata": {}
  },
  {
   "cell_type": "markdown",
   "source": [
    "## Transcripción de Audio\r\n",
    "\r\n",
    "Dependiendo de si la bandera \"has_subtitles\" es True o False, el programa opta por obtener los subtítulos oficiales del video o la transcripción a través del uso de la API de google."
   ],
   "metadata": {}
  },
  {
   "cell_type": "code",
   "execution_count": 7,
   "source": [
    "# ======================\r\n",
    "# DESCARGA DE SUBTÍTULOS\r\n",
    "# ======================\r\n",
    "\r\n",
    "if has_subtitles:\r\n",
    "\r\n",
    "    # Opciones de descarga:\r\n",
    "    # - Descargar todos los archivos como \"source\"\r\n",
    "    # - Descargar los subtítulos ya dados por el video\r\n",
    "    # - Obviar la descarga del video como tal.\r\n",
    "    download_options = {\r\n",
    "        'outtmpl': './media/subs',\r\n",
    "        'writesubtitles': True,\r\n",
    "        'writeauto'\r\n",
    "        \"skip_download\": True\r\n",
    "    }\r\n",
    "\r\n",
    "    # Se realiza la descarga\r\n",
    "    with ydl.YoutubeDL(download_options) as video:\r\n",
    "        video.download([video_url])\r\n",
    "\r\n",
    "    # Se listan todos los archivos de la carpeta \"media\"\r\n",
    "    files = os.listdir(\"./media\")\r\n",
    "\r\n",
    "    # Se revisa si algún archivo contiene \"subs\" en su nombre\r\n",
    "    # de ser así, se extrae su path.\r\n",
    "    for file in files:\r\n",
    "        if \"subs\" in file:\r\n",
    "            subtitles_path = file\r\n",
    "            break\r\n",
    "\r\n",
    "    # Corpus del video\r\n",
    "    video_corpus = \"\"\r\n",
    "\r\n",
    "    # Se extrae el texto del archivo .vtt  \r\n",
    "    for caption in webvtt.read(\"./media/\" + subtitles_path):\r\n",
    "\r\n",
    "        # Se eliminan:\r\n",
    "        # - Hard spaces (&nbsp;)\r\n",
    "        # - Newlines (\\n)\r\n",
    "        # - Leading and trailing spaces\r\n",
    "        caption = caption.text.replace(\"&nbsp;\", \" \")\r\n",
    "        caption = caption.replace(\"\\n\", \"\")\r\n",
    "        caption = caption.strip()\r\n",
    "\r\n",
    "        # Se agrega el string limpio al corpus\r\n",
    "        video_corpus = video_corpus + \" \" + caption\r\n",
    "\r\n",
    "# ======================\r\n",
    "# TRANSCRIPCIÓN CON API\r\n",
    "# ======================\r\n",
    "\r\n",
    "else:\r\n",
    "\r\n",
    "    # Opciones de descarga:\r\n",
    "    # - Descargar todos los archivos como \"audio\"\r\n",
    "    # - Descargar el mejor audio posible\r\n",
    "    # - Convertir el audio a wav y transcribirlo con FFMPEG\r\n",
    "    download_options = {\r\n",
    "        'outtmpl': './media/audio.%(ext)s',\r\n",
    "        'format': 'bestaudio/best',\r\n",
    "        'postprocessors': [{\r\n",
    "            'key': 'FFmpegExtractAudio',\r\n",
    "            'preferredcodec': 'mp3',\r\n",
    "            'preferredquality': '192',\r\n",
    "        }]\r\n",
    "    }\r\n",
    "\r\n",
    "    # Se realiza la descarga\r\n",
    "    with ydl.YoutubeDL(download_options) as video:\r\n",
    "        video.download([video_url])\r\n",
    "\r\n",
    "    # Se inicializa la clase de reconocimiento de voz\r\n",
    "    recognizer = sr.Recognizer()\r\n",
    "\r\n",
    "    # Lectura del archivo de audio fuente\r\n",
    "    with sr.AudioFile('./media/audio.wav') as source:\r\n",
    "        audio_text = recognizer.record(source)\r\n",
    "        \r\n",
    "    # El método de \"recognize_()\" retorna un error en la request si la\r\n",
    "    # API que utiliza \"speech recognizer\" no se puede accesar. De aquí el \"try\".\r\n",
    "    try:\r\n",
    "        # API de reconocimiento de voz de Google\r\n",
    "        # Ver la documentación para más lenguajes:\r\n",
    "        # https://cloud.google.com/speech-to-text/docs/languages\r\n",
    "        video_corpus = recognizer.recognize_google(audio_text, show_all=True)\r\n",
    "    \r\n",
    "    except Exception as e:\r\n",
    "        video_corpus = None\r\n",
    "        print('No se consiguió establecer una conexión con la API de Google. Error: {e}')\r\n",
    "\r\n",
    "    # Se imprime el texto generado en caso exista\r\n",
    "    if video_corpus:\r\n",
    "        print('Conversión exitosa.')\r\n"
   ],
   "outputs": [
    {
     "output_type": "stream",
     "name": "stdout",
     "text": [
      "[youtube] Vr-o01qiRYI: Downloading webpage\n",
      "[download] Destination: media\\audio.m4a\n",
      "[download] 100% of 7.46MiB in 00:01                  \n",
      "[ffmpeg] Correcting container in \"media\\audio.m4a\"\n",
      "[ffmpeg] Destination: media\\audio.wav\n",
      "Deleting original file media\\audio.m4a (pass -k to keep)\n",
      "No se consiguió establecer una conexión con la API de Google. Error: {e}\n"
     ]
    }
   ],
   "metadata": {}
  },
  {
   "cell_type": "markdown",
   "source": [
    "## Visualizando Corpus"
   ],
   "metadata": {}
  },
  {
   "cell_type": "code",
   "execution_count": 8,
   "source": [
    "print(video_corpus)"
   ],
   "outputs": [
    {
     "output_type": "stream",
     "name": "stdout",
     "text": [
      "None\n"
     ]
    }
   ],
   "metadata": {}
  },
  {
   "cell_type": "markdown",
   "source": [
    "## Alternativa: IBM Watson Transcription"
   ],
   "metadata": {}
  },
  {
   "cell_type": "code",
   "execution_count": 21,
   "source": [
    "from ibm_watson import SpeechToTextV1\r\n",
    "from ibm_cloud_sdk_core.authenticators import IAMAuthenticator\r\n",
    "import subprocess\r\n",
    "\r\n",
    "# Credenciales de IBM Cloud\r\n",
    "api_key = \"sD87-ETvf4Va0lJbI2jKZ5nDY_dHccbhxHEWmSdGpoON\"\r\n",
    "watson_url = \"https://api.us-south.speech-to-text.watson.cloud.ibm.com/instances/17c9cba9-292d-457d-ab2f-be4bc368e0c8/\"\r\n",
    "\r\n",
    "# Se autentica la  conexión con IBM Cloud\r\n",
    "authenticator = IAMAuthenticator(api_key)\r\n",
    "speech2text = SpeechToTextV1(authenticator = authenticator)\r\n",
    "speech2text.set_service_url(watson_url)\r\n",
    "\r\n",
    "# Se rompe el audio en trozos de 6 minutos (360 s)\r\n",
    "command = \"ffmpeg -i media/audio.mp3 -f segment -segment_time 360 -c copy media/sliced_audio/%03d.mp3\"\r\n",
    "subprocess.call(command, shell=True)\r\n",
    "\r\n",
    "# Se obtienen los nombres de todos los audios sliceados\r\n",
    "files = [\"./media/sliced_audio/\" + file for file in os.listdir(\"./media/sliced_audio\") if file.endswith(\".mp3\")]\r\n",
    "\r\n",
    "# Se ordenan los nombres de forma ascendente\r\n",
    "files.sort()\r\n",
    "\r\n",
    "# La lista de resultados inicia vacía\r\n",
    "results = []\r\n",
    "\r\n",
    "# Se realiza la transcripción\r\n",
    "for filename in files:\r\n",
    "    with open(filename, \"rb\") as f:\r\n",
    "\r\n",
    "        # Opciones:\r\n",
    "        # - Se va a procesar el archivo \"f\"\r\n",
    "        # - El archivo es un mp3\r\n",
    "        # - Se utilizará el modelo para audio estadounidense (US)\r\n",
    "        # - Se alimentarán varios audios de manera continua\r\n",
    "        # - El timeout máximo será igual al largo en minutos de cada audio.\r\n",
    "        response = speech2text.recognize(audio=f, content_type=\"audio/mp3\", model=\"en-US_NarrowbandModel\", inactivity_timeout=360).get_result()\r\n",
    "        \r\n",
    "        # Se agregan los resultados a la lista\r\n",
    "        results.append(response)\r\n",
    "\r\n",
    "# String inicial vacío para el corpus\r\n",
    "corpus = ''\r\n",
    "\r\n",
    "# Se construye el corpus del audio\r\n",
    "for file in results:\r\n",
    "    for result in file[\"results\"]:\r\n",
    "        corpus = corpus + result[\"alternatives\"][0][\"transcript\"].strip() + \". \""
   ],
   "outputs": [],
   "metadata": {}
  }
 ],
 "metadata": {
  "orig_nbformat": 4,
  "language_info": {
   "name": "python",
   "version": "3.9.2",
   "mimetype": "text/x-python",
   "codemirror_mode": {
    "name": "ipython",
    "version": 3
   },
   "pygments_lexer": "ipython3",
   "nbconvert_exporter": "python",
   "file_extension": ".py"
  },
  "kernelspec": {
   "name": "python3",
   "display_name": "Python 3.9.2 64-bit"
  },
  "interpreter": {
   "hash": "658dc12c475a3a8caebf03b24f414cffa2901ebd330ffd26b9c22f028a90850c"
  }
 },
 "nbformat": 4,
 "nbformat_minor": 2
}